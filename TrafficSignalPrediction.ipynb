{
  "nbformat": 4,
  "nbformat_minor": 0,
  "metadata": {
    "colab": {
      "name": "TrafficSignalPrediction.ipynb",
      "provenance": []
    },
    "kernelspec": {
      "name": "python3",
      "display_name": "Python 3"
    },
    "accelerator": "GPU"
  },
  "cells": [
    {
      "cell_type": "code",
      "metadata": {
        "colab": {
          "base_uri": "https://localhost:8080/"
        },
        "id": "yg41nhTQ88e1",
        "outputId": "52a7b353-f215-4adb-dad9-665e816cf45b"
      },
      "source": [
        "!pip install jovian --upgrade --quiet\r\n",
        "!pip install opendatasets --upgrade --quiet"
      ],
      "execution_count": 2,
      "outputs": [
        {
          "output_type": "stream",
          "text": [
            "\u001b[?25l\r\u001b[K     |█████                           | 10kB 31.9MB/s eta 0:00:01\r\u001b[K     |█████████▉                      | 20kB 33.8MB/s eta 0:00:01\r\u001b[K     |██████████████▉                 | 30kB 21.6MB/s eta 0:00:01\r\u001b[K     |███████████████████▊            | 40kB 24.8MB/s eta 0:00:01\r\u001b[K     |████████████████████████▋       | 51kB 24.6MB/s eta 0:00:01\r\u001b[K     |█████████████████████████████▋  | 61kB 27.1MB/s eta 0:00:01\r\u001b[K     |████████████████████████████████| 71kB 8.5MB/s \n",
            "\u001b[?25h  Building wheel for uuid (setup.py) ... \u001b[?25l\u001b[?25hdone\n"
          ],
          "name": "stdout"
        }
      ]
    },
    {
      "cell_type": "code",
      "metadata": {
        "id": "kEKQbNDI8FCH"
      },
      "source": [
        "import time\r\n",
        "import opendatasets as od\r\n",
        "import numpy as np \r\n",
        "import pandas as pd\r\n",
        "import os\r\n",
        "import cv2\r\n",
        "from PIL import Image\r\n",
        "import matplotlib.pyplot as plt\r\n",
        "import tensorflow as tf\r\n",
        "from tensorflow import keras\r\n",
        "from sklearn.model_selection import train_test_split\r\n",
        "from sklearn.metrics import accuracy_score\r\n",
        "np.random.seed(42)\r\n",
        "tf.random.set_seed(42)"
      ],
      "execution_count": 3,
      "outputs": []
    },
    {
      "cell_type": "markdown",
      "metadata": {
        "id": "1kkFozhhGkpy"
      },
      "source": [
        "# Dataset loading and Preprocessing"
      ]
    },
    {
      "cell_type": "code",
      "metadata": {
        "colab": {
          "base_uri": "https://localhost:8080/"
        },
        "id": "92EGE5h1930G",
        "outputId": "444f8661-3517-4ea8-c022-3757119024ed"
      },
      "source": [
        "dataset_url=\"https://www.kaggle.com/meowmeowmeowmeowmeow/gtsrb-german-traffic-sign\"\r\n",
        "od.download(dataset_url)"
      ],
      "execution_count": 4,
      "outputs": [
        {
          "output_type": "stream",
          "text": [
            "Please provide your Kaggle credentials to download this dataset. Learn more: http://bit.ly/kaggle-creds\n",
            "Your Kaggle username: supremekai40\n",
            "Your Kaggle Key: ··········\n"
          ],
          "name": "stdout"
        },
        {
          "output_type": "stream",
          "text": [
            "  1%|▏         | 9.00M/612M [00:00<00:09, 65.4MB/s]"
          ],
          "name": "stderr"
        },
        {
          "output_type": "stream",
          "text": [
            "Downloading gtsrb-german-traffic-sign.zip to ./gtsrb-german-traffic-sign\n"
          ],
          "name": "stdout"
        },
        {
          "output_type": "stream",
          "text": [
            "100%|██████████| 612M/612M [00:09<00:00, 69.0MB/s]\n"
          ],
          "name": "stderr"
        },
        {
          "output_type": "stream",
          "text": [
            "\n"
          ],
          "name": "stdout"
        }
      ]
    },
    {
      "cell_type": "code",
      "metadata": {
        "colab": {
          "base_uri": "https://localhost:8080/"
        },
        "id": "OD2Qyfzh9X54",
        "outputId": "ef77abe0-8e02-4666-ebde-0d7f660ad177"
      },
      "source": [
        "start = time.time()\r\n",
        "image_data = []\r\n",
        "image_labels = []\r\n",
        "total_classes = 43\r\n",
        "height = 43\r\n",
        "width = 43\r\n",
        "channels = 3\r\n",
        "input_path = '/content/gtsrb-german-traffic-sign/'\r\n",
        "\r\n",
        "for i in range(total_classes):\r\n",
        "    path = input_path + 'Train/' + str(i)\r\n",
        "    print(path)\r\n",
        "    images = os.listdir(path)\r\n",
        "\r\n",
        "    for img in images:\r\n",
        "        try:\r\n",
        "            image = cv2.imread(path + '/' + img)\r\n",
        "            image_fromarray = Image.fromarray(image, 'RGB')\r\n",
        "            resize_image = image_fromarray.resize((height, width))\r\n",
        "            image_data.append(np.array(resize_image))\r\n",
        "            image_labels.append(i)\r\n",
        "        except:\r\n",
        "            print(\"Error - Image loading\")\r\n",
        "\r\n",
        "#Converting lists into numpy arrays\r\n",
        "image_data = np.array(image_data)\r\n",
        "image_labels = np.array(image_labels)\r\n",
        "\r\n",
        "print(image_data.shape, image_labels.shape)\r\n",
        "end = time.time()\r\n",
        "print(\"It has taken\", round(end-start,5), \"seconds\")"
      ],
      "execution_count": 5,
      "outputs": [
        {
          "output_type": "stream",
          "text": [
            "/content/gtsrb-german-traffic-sign/Train/0\n",
            "/content/gtsrb-german-traffic-sign/Train/1\n",
            "/content/gtsrb-german-traffic-sign/Train/2\n",
            "/content/gtsrb-german-traffic-sign/Train/3\n",
            "/content/gtsrb-german-traffic-sign/Train/4\n",
            "/content/gtsrb-german-traffic-sign/Train/5\n",
            "/content/gtsrb-german-traffic-sign/Train/6\n",
            "/content/gtsrb-german-traffic-sign/Train/7\n",
            "/content/gtsrb-german-traffic-sign/Train/8\n",
            "/content/gtsrb-german-traffic-sign/Train/9\n",
            "/content/gtsrb-german-traffic-sign/Train/10\n",
            "/content/gtsrb-german-traffic-sign/Train/11\n",
            "/content/gtsrb-german-traffic-sign/Train/12\n",
            "/content/gtsrb-german-traffic-sign/Train/13\n",
            "/content/gtsrb-german-traffic-sign/Train/14\n",
            "/content/gtsrb-german-traffic-sign/Train/15\n",
            "/content/gtsrb-german-traffic-sign/Train/16\n",
            "/content/gtsrb-german-traffic-sign/Train/17\n",
            "/content/gtsrb-german-traffic-sign/Train/18\n",
            "/content/gtsrb-german-traffic-sign/Train/19\n",
            "/content/gtsrb-german-traffic-sign/Train/20\n",
            "/content/gtsrb-german-traffic-sign/Train/21\n",
            "/content/gtsrb-german-traffic-sign/Train/22\n",
            "/content/gtsrb-german-traffic-sign/Train/23\n",
            "/content/gtsrb-german-traffic-sign/Train/24\n",
            "/content/gtsrb-german-traffic-sign/Train/25\n",
            "/content/gtsrb-german-traffic-sign/Train/26\n",
            "/content/gtsrb-german-traffic-sign/Train/27\n",
            "/content/gtsrb-german-traffic-sign/Train/28\n",
            "/content/gtsrb-german-traffic-sign/Train/29\n",
            "/content/gtsrb-german-traffic-sign/Train/30\n",
            "/content/gtsrb-german-traffic-sign/Train/31\n",
            "/content/gtsrb-german-traffic-sign/Train/32\n",
            "/content/gtsrb-german-traffic-sign/Train/33\n",
            "/content/gtsrb-german-traffic-sign/Train/34\n",
            "/content/gtsrb-german-traffic-sign/Train/35\n",
            "/content/gtsrb-german-traffic-sign/Train/36\n",
            "/content/gtsrb-german-traffic-sign/Train/37\n",
            "/content/gtsrb-german-traffic-sign/Train/38\n",
            "/content/gtsrb-german-traffic-sign/Train/39\n",
            "/content/gtsrb-german-traffic-sign/Train/40\n",
            "/content/gtsrb-german-traffic-sign/Train/41\n",
            "/content/gtsrb-german-traffic-sign/Train/42\n",
            "(39209, 43, 43, 3) (39209,)\n",
            "It has taken 9.98946 seconds\n"
          ],
          "name": "stdout"
        }
      ]
    },
    {
      "cell_type": "code",
      "metadata": {
        "id": "i2m_gork9yCd"
      },
      "source": [
        "#shuffling data\r\n",
        "shuffle_indexes = np.arange(image_data.shape[0])\r\n",
        "np.random.shuffle(shuffle_indexes)\r\n",
        "image_data = image_data[shuffle_indexes]\r\n",
        "image_labels = image_labels[shuffle_indexes]"
      ],
      "execution_count": 6,
      "outputs": []
    },
    {
      "cell_type": "code",
      "metadata": {
        "colab": {
          "base_uri": "https://localhost:8080/"
        },
        "id": "KZHDFpB6_Of8",
        "outputId": "52c59909-edf2-4750-dd08-ba31709c8038"
      },
      "source": [
        "#Splitting training and testing dataset\r\n",
        "X_train, X_valid, y_train, y_valid = train_test_split(image_data, image_labels, test_size=0.2, random_state=42, shuffle=True)\r\n",
        "\r\n",
        "X_train = X_train/255 \r\n",
        "X_valid = X_valid/255\r\n",
        "\r\n",
        "print(\"X_train.shape\", X_train.shape)\r\n",
        "print(\"X_valid.shape\", X_valid.shape)\r\n",
        "print(\"y_train.shape\", y_train.shape)\r\n",
        "print(\"y_valid.shape\", y_valid.shape)"
      ],
      "execution_count": 7,
      "outputs": [
        {
          "output_type": "stream",
          "text": [
            "X_train.shape (31367, 43, 43, 3)\n",
            "X_valid.shape (7842, 43, 43, 3)\n",
            "y_train.shape (31367,)\n",
            "y_valid.shape (7842,)\n"
          ],
          "name": "stdout"
        }
      ]
    },
    {
      "cell_type": "code",
      "metadata": {
        "colab": {
          "base_uri": "https://localhost:8080/"
        },
        "id": "V949xyk4_SCG",
        "outputId": "dd864014-f7ea-47a6-f74f-22473200f2d9"
      },
      "source": [
        "#Preparing the Labels\r\n",
        "y_train = keras.utils.to_categorical(y_train, total_classes)\r\n",
        "y_valid = keras.utils.to_categorical(y_valid, total_classes)\r\n",
        "\r\n",
        "print(y_train.shape)\r\n",
        "print(y_valid.shape)"
      ],
      "execution_count": 36,
      "outputs": [
        {
          "output_type": "stream",
          "text": [
            "(31367, 43, 43)\n",
            "(7842, 43, 43)\n"
          ],
          "name": "stdout"
        }
      ]
    },
    {
      "cell_type": "markdown",
      "metadata": {
        "id": "SMmWeLSbHHwq"
      },
      "source": [
        "#CNN Model"
      ]
    },
    {
      "cell_type": "code",
      "metadata": {
        "id": "nLSYzDza_YGa"
      },
      "source": [
        "keras.backend.clear_session() # clearing session\r\n",
        "np.random.seed(42) # generating random seed\r\n",
        "tf.random.set_seed(42) # set.seed function helps reuse same set of random variables"
      ],
      "execution_count": 9,
      "outputs": []
    },
    {
      "cell_type": "code",
      "metadata": {
        "id": "_zWXzuFm_cIo"
      },
      "source": [
        "model = keras.models.Sequential([    \r\n",
        "    keras.layers.Conv2D(filters=16, kernel_size=(5,5), activation='relu', input_shape=(height,width,channels)),\r\n",
        "    keras.layers.Conv2D(filters=32, kernel_size=(3,3), activation='relu'),\r\n",
        "    keras.layers.MaxPool2D(pool_size=(2, 2)),\r\n",
        "    keras.layers.Dropout(rate=0.25),\r\n",
        "    keras.layers.Conv2D(filters=64, kernel_size=(3,3), activation='relu'),\r\n",
        "    keras.layers.Conv2D(filters=128, kernel_size=(3,3), activation='relu'),\r\n",
        "    keras.layers.MaxPool2D(pool_size=(2, 2)),\r\n",
        "    keras.layers.Dropout(rate=0.25),\r\n",
        "    keras.layers.Flatten(),\r\n",
        "    keras.layers.Dense(512, activation='relu'),\r\n",
        "    keras.layers.Dropout(rate=0.5),\r\n",
        "    keras.layers.Dense(43, activation='softmax')\r\n",
        "])"
      ],
      "execution_count": 10,
      "outputs": []
    },
    {
      "cell_type": "code",
      "metadata": {
        "colab": {
          "base_uri": "https://localhost:8080/"
        },
        "id": "nNvHUoJf_kp1",
        "outputId": "11aafd05-4a4f-40da-a0b9-e894ed5fd948"
      },
      "source": [
        "model.summary()"
      ],
      "execution_count": 11,
      "outputs": [
        {
          "output_type": "stream",
          "text": [
            "Model: \"sequential\"\n",
            "_________________________________________________________________\n",
            "Layer (type)                 Output Shape              Param #   \n",
            "=================================================================\n",
            "conv2d (Conv2D)              (None, 39, 39, 16)        1216      \n",
            "_________________________________________________________________\n",
            "conv2d_1 (Conv2D)            (None, 37, 37, 32)        4640      \n",
            "_________________________________________________________________\n",
            "max_pooling2d (MaxPooling2D) (None, 18, 18, 32)        0         \n",
            "_________________________________________________________________\n",
            "dropout (Dropout)            (None, 18, 18, 32)        0         \n",
            "_________________________________________________________________\n",
            "conv2d_2 (Conv2D)            (None, 16, 16, 64)        18496     \n",
            "_________________________________________________________________\n",
            "conv2d_3 (Conv2D)            (None, 14, 14, 128)       73856     \n",
            "_________________________________________________________________\n",
            "max_pooling2d_1 (MaxPooling2 (None, 7, 7, 128)         0         \n",
            "_________________________________________________________________\n",
            "dropout_1 (Dropout)          (None, 7, 7, 128)         0         \n",
            "_________________________________________________________________\n",
            "flatten (Flatten)            (None, 6272)              0         \n",
            "_________________________________________________________________\n",
            "dense (Dense)                (None, 512)               3211776   \n",
            "_________________________________________________________________\n",
            "dropout_2 (Dropout)          (None, 512)               0         \n",
            "_________________________________________________________________\n",
            "dense_1 (Dense)              (None, 43)                22059     \n",
            "=================================================================\n",
            "Total params: 3,332,043\n",
            "Trainable params: 3,332,043\n",
            "Non-trainable params: 0\n",
            "_________________________________________________________________\n"
          ],
          "name": "stdout"
        }
      ]
    },
    {
      "cell_type": "code",
      "metadata": {
        "id": "jubAomib_o2k"
      },
      "source": [
        "#Compilation of the model\r\n",
        "model.compile(loss='categorical_crossentropy', optimizer='adam', metrics=['accuracy'])"
      ],
      "execution_count": 12,
      "outputs": []
    },
    {
      "cell_type": "markdown",
      "metadata": {
        "id": "bssUAVPHHNS9"
      },
      "source": [
        "#Training on Data"
      ]
    },
    {
      "cell_type": "code",
      "metadata": {
        "colab": {
          "base_uri": "https://localhost:8080/"
        },
        "id": "vRwgDgNP_s4e",
        "outputId": "3f71b6f8-76ae-4558-afec-16a97c867e8a"
      },
      "source": [
        "epochs = 10\r\n",
        "history = model.fit(X_train, y_train, batch_size=64, epochs=epochs,\r\n",
        "validation_data=(X_valid, y_valid))"
      ],
      "execution_count": 13,
      "outputs": [
        {
          "output_type": "stream",
          "text": [
            "Epoch 1/10\n",
            "491/491 [==============================] - 12s 10ms/step - loss: 1.7570 - accuracy: 0.5300 - val_loss: 0.0834 - val_accuracy: 0.9769\n",
            "Epoch 2/10\n",
            "491/491 [==============================] - 4s 9ms/step - loss: 0.1416 - accuracy: 0.9555 - val_loss: 0.0436 - val_accuracy: 0.9875\n",
            "Epoch 3/10\n",
            "491/491 [==============================] - 4s 9ms/step - loss: 0.0728 - accuracy: 0.9791 - val_loss: 0.0269 - val_accuracy: 0.9926\n",
            "Epoch 4/10\n",
            "491/491 [==============================] - 4s 9ms/step - loss: 0.0580 - accuracy: 0.9822 - val_loss: 0.0178 - val_accuracy: 0.9957\n",
            "Epoch 5/10\n",
            "491/491 [==============================] - 4s 9ms/step - loss: 0.0475 - accuracy: 0.9851 - val_loss: 0.0127 - val_accuracy: 0.9969\n",
            "Epoch 6/10\n",
            "491/491 [==============================] - 4s 9ms/step - loss: 0.0330 - accuracy: 0.9895 - val_loss: 0.0210 - val_accuracy: 0.9943\n",
            "Epoch 7/10\n",
            "491/491 [==============================] - 4s 9ms/step - loss: 0.0378 - accuracy: 0.9892 - val_loss: 0.0161 - val_accuracy: 0.9966\n",
            "Epoch 8/10\n",
            "491/491 [==============================] - 4s 9ms/step - loss: 0.0296 - accuracy: 0.9908 - val_loss: 0.0143 - val_accuracy: 0.9966\n",
            "Epoch 9/10\n",
            "491/491 [==============================] - 4s 9ms/step - loss: 0.0297 - accuracy: 0.9915 - val_loss: 0.0142 - val_accuracy: 0.9971\n",
            "Epoch 10/10\n",
            "491/491 [==============================] - 4s 9ms/step - loss: 0.0282 - accuracy: 0.9920 - val_loss: 0.0127 - val_accuracy: 0.9971\n"
          ],
          "name": "stdout"
        }
      ]
    },
    {
      "cell_type": "code",
      "metadata": {
        "colab": {
          "base_uri": "https://localhost:8080/",
          "height": 324
        },
        "id": "X63gUcMq_vp7",
        "outputId": "b0ee55f1-bb29-4b52-fb42-7d2194b420ff"
      },
      "source": [
        "pd.DataFrame(history.history).plot(figsize=(8, 5))\r\n",
        "plt.grid(True)\r\n",
        "plt.gca().set_ylim(0, 1) # setting limits for y-axis\r\n",
        "plt.show()"
      ],
      "execution_count": 14,
      "outputs": [
        {
          "output_type": "display_data",
          "data": {
            "image/png": "[encoded data removed]",
            "text/plain": [
              "<Figure size 576x360 with 1 Axes>"
            ]
          },
          "metadata": {
            "tags": [],
            "needs_background": "light"
          }
        }
      ]
    },
    {
      "cell_type": "markdown",
      "metadata": {
        "id": "nXBDqNJNGbfG"
      },
      "source": [
        "#Accuracy on test dataset"
      ]
    },
    {
      "cell_type": "code",
      "metadata": {
        "id": "VdtT-DXM_1ou"
      },
      "source": [
        "start = time.time()\r\n",
        "test = pd.read_csv(input_path + '/Test.csv')\r\n",
        "\r\n",
        "labels = test[\"ClassId\"].values\r\n",
        "test_imgs = test[\"Path\"].values"
      ],
      "execution_count": 35,
      "outputs": []
    },
    {
      "cell_type": "code",
      "metadata": {
        "colab": {
          "base_uri": "https://localhost:8080/",
          "height": 319
        },
        "id": "KmtlvQT2_5bu",
        "outputId": "12046c97-aac5-4f83-e509-d8603a008bed"
      },
      "source": [
        "img_index = 93\r\n",
        "image = Image.open('/content/gtsrb-german-traffic-sign/' + test_imgs[img_index])\r\n",
        "img = image.resize((height,width))\r\n",
        "img = np.array(img)/255.\r\n",
        "img = img.reshape(1,height,width,channels)\r\n",
        "print(img.shape)\r\n",
        "print(labels[img_index])\r\n",
        "plt.imshow(image)"
      ],
      "execution_count": 18,
      "outputs": [
        {
          "output_type": "stream",
          "text": [
            "(1, 43, 43, 3)\n",
            "14\n"
          ],
          "name": "stdout"
        },
        {
          "output_type": "execute_result",
          "data": {
            "text/plain": [
              "<matplotlib.image.AxesImage at 0x7f357c0b6b70>"
            ]
          },
          "metadata": {
            "tags": []
          },
          "execution_count": 18
        },
        {
          "output_type": "display_data",
          "data": {
            "image/png": "[encoded data removed]",
            "text/plain": [
              "<Figure size 432x288 with 1 Axes>"
            ]
          },
          "metadata": {
            "tags": [],
            "needs_background": "light"
          }
        }
      ]
    },
    {
      "cell_type": "code",
      "metadata": {
        "colab": {
          "base_uri": "https://localhost:8080/"
        },
        "id": "C11LPoFi_9SG",
        "outputId": "dd7e9604-dad1-4edc-f60c-a4bae7dab93f"
      },
      "source": [
        "pred=np.argmax(model.predict(img), axis=-1).astype(\"int32\")[0]\r\n",
        "print(pred)"
      ],
      "execution_count": 28,
      "outputs": [
        {
          "output_type": "stream",
          "text": [
            "14\n"
          ],
          "name": "stdout"
        }
      ]
    },
    {
      "cell_type": "code",
      "metadata": {
        "colab": {
          "base_uri": "https://localhost:8080/"
        },
        "id": "_uwCyyMwAJha",
        "outputId": "e62f03ff-1556-45d0-adec-f1a1d75c44e2"
      },
      "source": [
        "start = time.time()\r\n",
        "test = pd.read_csv(input_path + 'Test.csv')\r\n",
        "\r\n",
        "labels = test[\"ClassId\"].values\r\n",
        "imgs = test[\"Path\"].values\r\n",
        "\r\n",
        "data =[]\r\n",
        "\r\n",
        "for img in imgs:\r\n",
        "    try:\r\n",
        "        image = cv2.imread(input_path + img)\r\n",
        "        image_fromarray = Image.fromarray(image, 'RGB')\r\n",
        "        resize_image = image_fromarray.resize((height, width))\r\n",
        "        data.append(np.array(resize_image))\r\n",
        "    except:\r\n",
        "        print(\"Error\")\r\n",
        "X_test = np.array(data)\r\n",
        "X_test = X_test/255\r\n",
        "\r\n",
        "pred = np.argmax(model.predict(X_test), axis=-1).astype(\"int32\")\r\n",
        "\r\n",
        "#Accuracy with the test data\r\n",
        "print(accuracy_score(labels, pred))\r\n",
        "end = time.time()\r\n",
        "print(\"It has taken\", round(end-start,5), \"seconds\")"
      ],
      "execution_count": 34,
      "outputs": [
        {
          "output_type": "stream",
          "text": [
            "0.9719714964370546\n",
            "It has taken 4.03047 seconds\n"
          ],
          "name": "stdout"
        }
      ]
    }
  ]
}